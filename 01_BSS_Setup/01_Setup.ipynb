{
 "cells": [
  {
   "cell_type": "markdown",
   "metadata": {},
   "source": [
    "# 01 Alchemical free energy setup\n",
    "\n",
    "\n",
    "<a rel=\"license\" href=\"http://creativecommons.org/licenses/by/4.0/\"><img alt=\"Creative Commons Licence\" style=\"border-width:0\" src=\"https://i.creativecommons.org/l/by/4.0/88x31.png\" title='This work is licensed under a Creative Commons Attribution 4.0 International License.' align=\"right\"/></a>\n",
    "\n",
    "Author: \n",
    "[Antonia Mey -- @ppxasjsm](https://github.com/ppxasjsm)   \n",
    "[Lester Hedges -- @lohedges](https://github.com/lohedges)\n",
    "\n",
    "## Learning objectives:\n",
    "- Setup an alchemical solvation free energy simulation using BioSimSpace and SOMD\n",
    "- Setup an alchemical solvation free energy simulation using BioSimSpace and Gromacs\n",
    "- Setup an alchemical binding free energy simulation for Gromacs and SOMD using BioSimSpace\n",
    "\n",
    "You will be using the following functions in BioSimSpace:\n",
    "\n",
    "- `BSS.IO.ReadMolecules()` to load you molecules\n",
    "- `BSS.Parameters.parameterise()` will be used to parametrise your molecules\n",
    "- `BSS.Align.matchAtoms()` MCS matches atoms for the morphing\n",
    "- `BSS.Align.rmsdAlign()` Aligns the molecules to be morphed\n",
    "- `BSS.Align.merge()` Creates a merged molecule used for alchemical simulations\n",
    "- `BSS.Solvent.tip3p()` Solvates a molecule in a tip3 water box\n",
    "- `BSS.Protocol.FreeEnergy()` Defines the free energy protocol\n",
    "- `BSS.FreeEnergy.Solvation()` Sets up a solvation free energy process\n",
    "- `BSS.FreeEnergy.Binding()` Sets up a binding free energy process\n",
    "\n",
    "\n",
    "**Reading time**:\n",
    "~ 30 mins"
   ]
  },
  {
   "cell_type": "markdown",
   "metadata": {},
   "source": [
    "**Jupyter cheat sheet**:\n",
    "- to run the currently highlighted cell, hold <kbd>&#x21E7; Shift</kbd> and press <kbd>&#x23ce; Enter</kbd>;\n",
    "- to get help for a specific function, place the cursor within the function's brackets, hold <kbd>&#x21E7; Shift</kbd>, and press <kbd>&#x21E5; Tab</kbd>;\n",
    "- you can find the full documentation at [PyEMMA.org](http://www.pyemma.org)."
   ]
  },
  {
   "cell_type": "markdown",
   "metadata": {},
   "source": [
    "## Table of Contents\n",
    "1. [Working with ligands](#lig)    \n",
    "   1.1 [Loading ligands](#load)   \n",
    "   1.2 [parametrising ligands](#param)   \n",
    "   1.3 [Minimisation and equilibration](#min)   \n",
    "2. [Morphing ligands](#dtraj)   \n",
    "   2.1 [MCS](#mcs)   \n",
    "   2.2 [morphed ligand](#morph)   \n",
    "3. [Running solvation free energy simulation](#solv)\n",
    "4. [Binding free energy simulation](#bind)   \n",
    "5. [Exercises](#exerc)   "
   ]
  },
  {
   "cell_type": "markdown",
   "metadata": {},
   "source": [
    "#### Let's get all the necessary imports out of the way"
   ]
  },
  {
   "cell_type": "code",
   "execution_count": 1,
   "metadata": {},
   "outputs": [
    {
     "name": "stdout",
     "output_type": "stream",
     "text": [
      "Populating the interactive namespace from numpy and matplotlib\n"
     ]
    }
   ],
   "source": [
    "%pylab inline\n",
    "import BioSimSpace as BSS"
   ]
  },
  {
   "cell_type": "markdown",
   "metadata": {},
   "source": [
    "## 1. Free energy of solvation of ethane and methanol\n",
    "<a id=\"lig\"></a>\n",
    "\n",
    "We want to compute the relative free energy of hydration between ethane and methanol. That is the free energy difference between hydrating an ethane molecule in water and a methanol molecule in water. It assumes that you had a look at the slides of lecture 1 or attended lecture1.\n",
    "\n",
    "Below you can see a thermodynamic cycle for the relative hydration free energy of ethane and methanol:\n",
    "![therm_cycle](images/Therm_cycle.png)"
   ]
  },
  {
   "cell_type": "markdown",
   "metadata": {},
   "source": [
    "### 1.1 Loading ligands\n",
    "<a id=\"load\"></a>\n",
    "\n",
    "Next we read in the two molecules we want to perturb. In this case this is ethane changing to methanol. You can use the BioSimSpace function `BSS.IO.readMolecules()` for this task."
   ]
  },
  {
   "cell_type": "code",
   "execution_count": 2,
   "metadata": {},
   "outputs": [],
   "source": [
    "# We assume the molecules to perturb are the first molecules in each system\n",
    "ethane = BSS.IO.readMolecules('data/ethane.pdb').getMolecules()[0]\n",
    "methanol = BSS.IO.readMolecules('data/methanol.pdb').getMolecules()[0]"
   ]
  },
  {
   "cell_type": "markdown",
   "metadata": {},
   "source": [
    "It might be nice to quickly check we are reading in the right molecules so we can visualise them using the `viewMolecules()` function."
   ]
  },
  {
   "cell_type": "code",
   "execution_count": 3,
   "metadata": {},
   "outputs": [
    {
     "name": "stdout",
     "output_type": "stream",
     "text": [
      "Reading molecules from '['data/ethane.pdb']'\n",
      "Rendering the molecules...\n"
     ]
    },
    {
     "data": {
      "application/vnd.jupyter.widget-view+json": {
       "model_id": "5b2b052cd0814acda528b3313af90163",
       "version_major": 2,
       "version_minor": 0
      },
      "text/plain": [
       "NGLWidget()"
      ]
     },
     "metadata": {},
     "output_type": "display_data"
    },
    {
     "data": {
      "application/vnd.jupyter.widget-view+json": {
       "model_id": "b532acd6d7e04faaaf76728c59648839",
       "version_major": 2,
       "version_minor": 0
      },
      "text/plain": [
       "Tab(children=(Box(children=(Box(children=(Box(children=(Label(value='step'), IntSlider(value=1, min=-100)), la…"
      ]
     },
     "metadata": {},
     "output_type": "display_data"
    },
    {
     "data": {
      "text/plain": [
       "<BioSimSpace.Notebook._view.View at 0x7f80dca8db70>"
      ]
     },
     "execution_count": 3,
     "metadata": {},
     "output_type": "execute_result"
    }
   ],
   "source": [
    "BSS.viewMolecules('data/ethane.pdb')"
   ]
  },
  {
   "cell_type": "code",
   "execution_count": 4,
   "metadata": {},
   "outputs": [
    {
     "name": "stdout",
     "output_type": "stream",
     "text": [
      "Reading molecules from '['data/methanol.pdb']'\n",
      "Rendering the molecules...\n"
     ]
    },
    {
     "data": {
      "application/vnd.jupyter.widget-view+json": {
       "model_id": "c5ae173a92104e51aa78aaf0437f3032",
       "version_major": 2,
       "version_minor": 0
      },
      "text/plain": [
       "NGLWidget()"
      ]
     },
     "metadata": {},
     "output_type": "display_data"
    },
    {
     "data": {
      "application/vnd.jupyter.widget-view+json": {
       "model_id": "b053bc5b377b4328b4088301407cf76b",
       "version_major": 2,
       "version_minor": 0
      },
      "text/plain": [
       "Tab(children=(Box(children=(Box(children=(Box(children=(Label(value='step'), IntSlider(value=1, min=-100)), la…"
      ]
     },
     "metadata": {},
     "output_type": "display_data"
    },
    {
     "data": {
      "text/plain": [
       "<BioSimSpace.Notebook._view.View at 0x7f807a6cff98>"
      ]
     },
     "execution_count": 4,
     "metadata": {},
     "output_type": "execute_result"
    }
   ],
   "source": [
    "BSS.viewMolecules('data/methanol.pdb')"
   ]
  },
  {
   "cell_type": "markdown",
   "metadata": {},
   "source": [
    "### 1.2 Parametrising molecules\n",
    "<a id=\"param\"></a>\n",
    "\n",
    "Current we only have the coordinates information saved for the loaded molecules so the first thing we need to do is generated some forcefield parameters. In this case we will use the `gaff` [forcefield](http://ambermd.org/antechamber/gaff.html)."
   ]
  },
  {
   "cell_type": "code",
   "execution_count": 5,
   "metadata": {},
   "outputs": [],
   "source": [
    "ethane = BSS.Parameters.parameterise(ethane, forcefield=\"gaff\").getMolecule()\n",
    "methanol = BSS.Parameters.parameterise(methanol, forcefield=\"gaff\").getMolecule()"
   ]
  },
  {
   "cell_type": "markdown",
   "metadata": {},
   "source": [
    "## 2. Creating merged system\n",
    "<a id=\"merge\"></a>\n",
    "Now ethane and methanol have all the required properties for running an MD simulation of them individually. But here we are interested interested in creating a morphed system, or `single topology` for running an alchemical free energy calculations. In this case, two of the ethane hydrogens will turn into dummy atoms and the second carbon and the 3rd hydrogen will turn into the `oh` group of the methanol. "
   ]
  },
  {
   "cell_type": "markdown",
   "metadata": {},
   "source": [
    "### 2.1 MCS\n",
    "<a id=\"MCS\"></a>\n",
    "In order to automatically figure out which atoms are common between ethane and methanol we can use the `matchAtoms()` function of BioSimSpace. This will compute a MCS match. And example of what and MCS match might look like is shown here:\n",
    "![MCS](images/MCS.png)\n"
   ]
  },
  {
   "cell_type": "code",
   "execution_count": 6,
   "metadata": {},
   "outputs": [],
   "source": [
    "mapping = {}\n",
    "mapping = BSS.Align.matchAtoms(ethane, methanol)\n",
    "\n",
    "print(mapping)"
   ]
  },
  {
   "cell_type": "markdown",
   "metadata": {},
   "source": [
    "Once we have the mapping we need to align the molecules to each other using an RMSD metric and from the alignment we can then create a merged molecule which contains the `singel topology` information needed."
   ]
  },
  {
   "cell_type": "code",
   "execution_count": null,
   "metadata": {},
   "outputs": [],
   "source": [
    "# Align lig0 to lig1 based on the mapping.\n",
    "ethane = BSS.Align.rmsdAlign(ethane, methanol, mapping)\n",
    "\n",
    "# Merge the two ligands based on the mapping.\n",
    "merged = BSS.Align.merge(ethane, methanol, mapping)"
   ]
  },
  {
   "cell_type": "markdown",
   "metadata": {},
   "source": [
    "Let's have a closer look at this merged molecule"
   ]
  },
  {
   "cell_type": "code",
   "execution_count": null,
   "metadata": {},
   "outputs": [],
   "source": [
    "# Looking at merged molecule\n",
    "\n"
   ]
  },
  {
   "cell_type": "markdown",
   "metadata": {},
   "source": [
    "### 2.2 Creating a morph\n",
    "<a id=\"morph\"></a>\n",
    "\n",
    "Different software tools have different ways of running alchemical free energy calculations. If you were to use `SOMD` for the underlying free energy calculations you will automatically generate something called a `pert` file. This file contains information on how e.g. the charges change with $\\lambda$"
   ]
  },
  {
   "cell_type": "code",
   "execution_count": 7,
   "metadata": {},
   "outputs": [
    {
     "data": {
      "text/plain": [
       "Molecule( 7 version 597 : nAtoms() = 8, nResidues() = 1 )"
      ]
     },
     "execution_count": 7,
     "metadata": {},
     "output_type": "execute_result"
    }
   ],
   "source": [
    "merged._toPertFile('ethane_methanol.pert')"
   ]
  },
  {
   "cell_type": "code",
   "execution_count": null,
   "metadata": {},
   "outputs": [],
   "source": [
    "!tail ethane_methanol.pert"
   ]
  },
  {
   "cell_type": "markdown",
   "metadata": {},
   "source": [
    "### 2.3 Solvation\n",
    "<a id=\"solv\"></a>\n",
    "\n",
    "Before we can run a free energy simulation we will have to solvate the system. In this case rather than passing ethane and methanol separately we will solvate the whole merged system. "
   ]
  },
  {
   "cell_type": "code",
   "execution_count": 8,
   "metadata": {},
   "outputs": [],
   "source": [
    "solvated = BSS.Solvent.tip3p(molecule=merged, box=3*[40*BSS.Units.Length.angstrom])"
   ]
  },
  {
   "cell_type": "markdown",
   "metadata": {},
   "source": [
    "## 3. Solvation free energy\n",
    "<a id=\"free\"></a>\n",
    "As before we need to define a protocol and then run this protocol using a solvation free energy process. \n",
    "A simple protocol consists of a 2 fs timestep a runtime of 4 ns and using equally spaced 9 $\\lambda$ windows. "
   ]
  },
  {
   "cell_type": "code",
   "execution_count": 9,
   "metadata": {},
   "outputs": [],
   "source": [
    "# Create the free energy protocol.\n",
    "protocol = BSS.Protocol.FreeEnergy(timestep=2*BSS.Units.Time.femtosecond, runtime=4*BSS.Units.Time.nanosecond, num_lam=9)\n"
   ]
  },
  {
   "cell_type": "code",
   "execution_count": null,
   "metadata": {},
   "outputs": [],
   "source": []
  },
  {
   "cell_type": "code",
   "execution_count": 10,
   "metadata": {},
   "outputs": [],
   "source": [
    "freenrg = BSS.FreeEnergy.Solvation(solvated, protocol, work_dir=\"ethane_methanol\")"
   ]
  },
  {
   "cell_type": "markdown",
   "metadata": {},
   "source": [
    "Next you would run the alchemical free energy simulation in the following way:\n",
    "\n",
    "`freenrg.run()`   \n",
    "\n",
    "This only makes sense on a workstation with GPUs or GPU cloud resources or a GPU cluster. Otherwise you will have to wait for too long to run these simulations on the notebook server. "
   ]
  },
  {
   "cell_type": "code",
   "execution_count": null,
   "metadata": {},
   "outputs": [],
   "source": [
    "# freenrg.run()"
   ]
  },
  {
   "cell_type": "markdown",
   "metadata": {},
   "source": [
    "Let's have a look the `ethane_methanol` directoy. In this directory you have now all the files setup and ready for simulation using Gromacs as the simulation engine. "
   ]
  },
  {
   "cell_type": "markdown",
   "metadata": {},
   "source": [
    "## 4. Exercises\n",
    "<a id=\"exerc1\"></a>\n",
    "\n",
    "The exercises are announced by the keyword **Exercise** and followed by an incomplete cell.\n",
    "Missing parts are indicated by\n",
    "```python\n",
    "#FIXME\n",
    "```"
   ]
  },
  {
   "cell_type": "code",
   "execution_count": null,
   "metadata": {},
   "outputs": [],
   "source": [
    "### 4.1 Exercise on merged molecules"
   ]
  },
  {
   "cell_type": "code",
   "execution_count": null,
   "metadata": {},
   "outputs": [],
   "source": []
  },
  {
   "cell_type": "code",
   "execution_count": null,
   "metadata": {},
   "outputs": [],
   "source": [
    "### 4.2 Using different simualtion engines"
   ]
  },
  {
   "cell_type": "code",
   "execution_count": null,
   "metadata": {},
   "outputs": [],
   "source": [
    "## 4. Free energy of binding"
   ]
  }
 ],
 "metadata": {
  "kernelspec": {
   "display_name": "Python 3",
   "language": "python",
   "name": "python3"
  },
  "language_info": {
   "codemirror_mode": {
    "name": "ipython",
    "version": 3
   },
   "file_extension": ".py",
   "mimetype": "text/x-python",
   "name": "python",
   "nbconvert_exporter": "python",
   "pygments_lexer": "ipython3",
   "version": "3.6.7"
  }
 },
 "nbformat": 4,
 "nbformat_minor": 2
}
