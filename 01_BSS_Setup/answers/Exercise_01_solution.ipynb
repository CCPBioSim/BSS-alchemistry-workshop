{
 "cells": [
  {
   "cell_type": "markdown",
   "metadata": {},
   "source": [
    "# 01 Alchemical free energy setup\n",
    "\n",
    "\n",
    "<a rel=\"license\" href=\"http://creativecommons.org/licenses/by/4.0/\"><img alt=\"Creative Commons Licence\" style=\"border-width:0\" src=\"https://i.creativecommons.org/l/by/4.0/88x31.png\" title='This work is licensed under a Creative Commons Attribution 4.0 International License.' align=\"right\"/></a>\n",
    "\n",
    "Authors:   \n",
    "[Antonia Mey -- @ppxasjsm](https://github.com/ppxasjsm)   \n",
    "[Lester Hedges -- @lohedges](https://github.com/lohedges)\n",
    "\n",
    "## Learning objectives:\n",
    "- Setup an alchemical solvation free energy simulation using BioSimSpace and SOMD\n",
    "- Setup an alchemical solvation free energy simulation using BioSimSpace and Gromacs\n",
    "- Setup an alchemical binding free energy simulation for Gromacs and SOMD using BioSimSpace\n",
    "\n",
    "You will be using the following functions in BioSimSpace:\n",
    "\n",
    "- `BSS.IO.ReadMolecules()` to load you molecules\n",
    "- `BSS.Parameters.parameterise()` will be used to parametrise your molecules\n",
    "- `BSS.Align.matchAtoms()` MCS matches atoms for the morphing\n",
    "- `BSS.Align.rmsdAlign()` Aligns the molecules to be morphed\n",
    "- `BSS.Align.merge()` Creates a merged molecule used for alchemical simulations\n",
    "- `BSS.Solvent.tip3p()` Solvates a molecule in a tip3 water box\n",
    "- `BSS.Protocol.FreeEnergy()` Defines the free energy protocol\n",
    "- `BSS.FreeEnergy.Solvation()` Sets up a solvation free energy process\n",
    "- `BSS.FreeEnergy.Binding()` Sets up a binding free energy process\n",
    "\n",
    "\n",
    "**Reading time**:\n",
    "~ 30 mins"
   ]
  },
  {
   "cell_type": "markdown",
   "metadata": {},
   "source": [
    "**Jupyter cheat sheet**:\n",
    "- to run the currently highlighted cell, hold <kbd>&#x21E7; Shift</kbd> and press <kbd>&#x23ce; Enter</kbd>;\n",
    "- to get help for a specific function, place the cursor within the function's brackets, hold <kbd>&#x21E7; Shift</kbd>, and press <kbd>&#x21E5; Tab</kbd>;\n",
    "- you can find the full documentation at [biosimspace.org](https://biosimspace.org)."
   ]
  },
  {
   "cell_type": "markdown",
   "metadata": {},
   "source": [
    "## Table of Contents\n",
    "1. [Working with ligands](#lig)    \n",
    "   1.1 [Loading ligands](#load)   \n",
    "   1.2 [Parametrising ligands](#param)   \n",
    "2. [Morphing ligands](#merge)   \n",
    "   2.1 [MCS](#mcs)   \n",
    "   2.2 [morphed ligand](#morph)   \n",
    "3. [Running solvation free energy simulation](#solv)\n",
    "4. [Binding free energy simulation](#bind)   \n",
    "5. [Exercises](#exerc2)   "
   ]
  },
  {
   "cell_type": "markdown",
   "metadata": {},
   "source": [
    "#### Let's get all the necessary imports out of the way"
   ]
  },
  {
   "cell_type": "code",
   "execution_count": null,
   "metadata": {},
   "outputs": [],
   "source": [
    "%pylab inline\n",
    "import BioSimSpace as BSS"
   ]
  },
  {
   "cell_type": "markdown",
   "metadata": {},
   "source": [
    "## 1. Free energy of solvation of ethane and methanol\n",
    "<a id=\"lig\"></a>\n",
    "\n",
    "We want to compute the relative free energy of hydration between ethane and methanol. That is the free energy difference between hydrating an ethane molecule in water and a methanol molecule in water. It assumes that you had a look at the slides of lecture 1 or attended lecture1.\n",
    "\n",
    "Below you can see a thermodynamic cycle for the relative hydration free energy of ethane and methanol:\n",
    "![therm_cycle](images/Therm_cycle.png)"
   ]
  },
  {
   "cell_type": "markdown",
   "metadata": {},
   "source": [
    "### 1.1 Loading ligands\n",
    "<a id=\"load\"></a>\n",
    "Next, we read in the two molecules we want to perturb. In this case, this is ethane changing to methanol. You can use the BioSimSpace function `BSS.IO.readMolecules()` for this task."
   ]
  },
  {
   "cell_type": "code",
   "execution_count": null,
   "metadata": {},
   "outputs": [],
   "source": [
    "# We assume the molecules to perturb are the first molecules in each system\n",
    "ethane = BSS.IO.readMolecules('data/ethane.pdb').getMolecules()[0]\n",
    "methanol = BSS.IO.readMolecules('data/methanol.pdb').getMolecules()[0]"
   ]
  },
  {
   "cell_type": "markdown",
   "metadata": {},
   "source": [
    "It might be nice to quickly check we are reading in the right molecules so we can visualise them using the `viewMolecules()` function."
   ]
  },
  {
   "cell_type": "code",
   "execution_count": null,
   "metadata": {},
   "outputs": [],
   "source": [
    "BSS.viewMolecules('data/ethane.pdb')"
   ]
  },
  {
   "cell_type": "code",
   "execution_count": null,
   "metadata": {},
   "outputs": [],
   "source": [
    "BSS.viewMolecules('data/methanol.pdb')"
   ]
  },
  {
   "cell_type": "markdown",
   "metadata": {},
   "source": [
    "### 1.2 Parametrising molecules\n",
    "<a id=\"param\"></a>\n",
    "\n",
    "Current we only have the coordinates information saved for the loaded molecules so the first thing we need to do is generated some forcefield parameters. In this case, we will use the `gaff` [forcefield](http://ambermd.org/antechamber/gaff.html)."
   ]
  },
  {
   "cell_type": "code",
   "execution_count": null,
   "metadata": {},
   "outputs": [],
   "source": [
    "ethane = BSS.Parameters.gaff(ethane).getMolecule()\n",
    "methanol = BSS.Parameters.gaff(methanol).getMolecule()"
   ]
  },
  {
   "cell_type": "markdown",
   "metadata": {},
   "source": [
    "## 2. Creating merged system\n",
    "<a id=\"merge\"></a>\n",
    "Now ethane and methanol have all the required properties for running an MD simulation of them individually. But here we are interested in creating a morphed system, or `single topology` for running an alchemical free energy calculation. In this case, two of the ethane hydrogens will turn into dummy atoms and the second carbon and the 3rd hydrogen will turn into the `oh` group of the methanol. "
   ]
  },
  {
   "cell_type": "markdown",
   "metadata": {},
   "source": [
    "### 2.1 MCS\n",
    "<a id=\"MCS\"></a>\n",
    "In order to automatically figure out which atoms are common between ethane and methanol we can use the `matchAtoms()` function of BioSimSpace. This will compute a MCS match. An example of what and MCS match might look like is shown here:\n",
    "![MCS](images/MCS.png)\n"
   ]
  },
  {
   "cell_type": "code",
   "execution_count": null,
   "metadata": {},
   "outputs": [],
   "source": [
    "# mapping returns a dictionary\n",
    "mapping = {}\n",
    "mapping = BSS.Align.matchAtoms(ethane, methanol)\n",
    "\n",
    "print(mapping)"
   ]
  },
  {
   "cell_type": "markdown",
   "metadata": {},
   "source": [
    "Once we have the mapping we need to align the molecules to each other using an RMSD metric and from the alignment we can then create a merged molecule which contains the `singel topology` information needed."
   ]
  },
  {
   "cell_type": "code",
   "execution_count": null,
   "metadata": {},
   "outputs": [],
   "source": [
    "# Align lig0 to lig1 based on the mapping.\n",
    "ethane = BSS.Align.rmsdAlign(ethane, methanol, mapping)\n",
    "\n",
    "# Merge the two ligands based on the mapping.\n",
    "merged = BSS.Align.merge(ethane, methanol, mapping)"
   ]
  },
  {
   "cell_type": "markdown",
   "metadata": {},
   "source": [
    "### 2.2 Creating a morph\n",
    "<a id=\"morph\"></a>\n",
    "\n",
    "Different software tools have different ways of running alchemical free energy calculations. If you were to use `SOMD` for the underlying free energy calculations you will automatically generate something called a `pert` file. This file contains information on how e.g. the charges change with $\\lambda$"
   ]
  },
  {
   "cell_type": "markdown",
   "metadata": {},
   "source": [
    "Let's have a closer look at this merged molecule"
   ]
  },
  {
   "cell_type": "code",
   "execution_count": null,
   "metadata": {},
   "outputs": [],
   "source": [
    "# Looking at merged molecule\n",
    "prop_map = {}\n",
    "\n",
    "for prop in merged._sire_molecule.propertyKeys():\n",
    "    if prop[-1] == \"1\":\n",
    "        prop_map[prop[:-1]] = prop\n",
    "\n",
    "BSS.IO.saveMolecules('test',merged, 'pdb', property_map=prop_map)"
   ]
  },
  {
   "cell_type": "code",
   "execution_count": null,
   "metadata": {},
   "outputs": [],
   "source": [
    "BSS.viewMolecules('test.pdb')"
   ]
  },
  {
   "cell_type": "code",
   "execution_count": null,
   "metadata": {},
   "outputs": [],
   "source": [
    "!cat 'test.pdb'"
   ]
  },
  {
   "cell_type": "code",
   "execution_count": null,
   "metadata": {},
   "outputs": [],
   "source": [
    "merged._toPertFile('ethane_methanol.pert')"
   ]
  },
  {
   "cell_type": "code",
   "execution_count": null,
   "metadata": {},
   "outputs": [],
   "source": [
    "!head -n 20 ethane_methanol.pert"
   ]
  },
  {
   "cell_type": "markdown",
   "metadata": {},
   "source": [
    "### 2.3 Solvation\n",
    "<a id=\"solv\"></a>\n",
    "\n",
    "Before we can run a free energy simulation we will have to solvate the system. In this case, rather than passing ethane and methanol separately we will solvate the whole merged system. "
   ]
  },
  {
   "cell_type": "code",
   "execution_count": null,
   "metadata": {},
   "outputs": [],
   "source": [
    "solvated = BSS.Solvent.tip3p(molecule=merged, box=3*[40*BSS.Units.Length.angstrom])"
   ]
  },
  {
   "cell_type": "markdown",
   "metadata": {},
   "source": [
    "## 3. Solvation free energy\n",
    "<a id=\"free\"></a>\n",
    "As before we need to define a protocol and then run this protocol using a solvation free energy process. \n",
    "A simple protocol consists of a 2 fs timestep a runtime of 4 ns and using equally spaced 9 $\\lambda$ windows. "
   ]
  },
  {
   "cell_type": "code",
   "execution_count": null,
   "metadata": {},
   "outputs": [],
   "source": [
    "# Create the free energy protocol.\n",
    "protocol = BSS.Protocol.FreeEnergy(timestep=2*BSS.Units.Time.femtosecond, runtime=4*BSS.Units.Time.nanosecond, num_lam=9)\n"
   ]
  },
  {
   "cell_type": "code",
   "execution_count": null,
   "metadata": {},
   "outputs": [],
   "source": [
    "freenrg = BSS.FreeEnergy.Solvation(solvated, protocol, work_dir=\"ethane_methanol\")"
   ]
  },
  {
   "cell_type": "markdown",
   "metadata": {},
   "source": [
    "Next you would run the alchemical free energy simulation in the following way:\n",
    "\n",
    "`freenrg.run()`   \n",
    "\n",
    "This only makes sense on a workstation with GPUs or GPU cloud resources or a GPU cluster. Otherwise you will have to wait for too long to run these simulations on the notebook server. "
   ]
  },
  {
   "cell_type": "code",
   "execution_count": null,
   "metadata": {},
   "outputs": [],
   "source": [
    "# freenrg.run()"
   ]
  },
  {
   "cell_type": "markdown",
   "metadata": {},
   "source": [
    "Let's have a look the `ethane_methanol` directoy. In this directory you have now all the files setup and ready for simulation using Gromacs as the simulation engine. "
   ]
  },
  {
   "cell_type": "markdown",
   "metadata": {},
   "source": [
    "### 3.1. Exercises\n",
    "<a id=\"exerc1\"></a>\n",
    "\n",
    "The exercises are announced by the keyword **Exercise** and followed by an incomplete cell.\n",
    "Missing parts are indicated by\n",
    "```python\n",
    "#FIXME\n",
    "```"
   ]
  },
  {
   "cell_type": "markdown",
   "metadata": {},
   "source": [
    "### 3.1.1. Exercise on selecting lambda windows\n",
    "Above we defined a protocol with 9 $\\lambda$ windows. We worked out this not an optimal protocol but would like to instead use 12 lambda window. Can you write down a protocol that would allow you to run 12 rather than 9 lambda windows?"
   ]
  },
  {
   "cell_type": "code",
   "execution_count": null,
   "metadata": {},
   "outputs": [],
   "source": [
    "# Create the free energy protocol.\n",
    "protocol = BSS.Protocol.FreeEnergy(#FIXME)"
   ]
  },
  {
   "cell_type": "markdown",
   "metadata": {},
   "source": [
    "### Solution"
   ]
  },
  {
   "cell_type": "code",
   "execution_count": null,
   "metadata": {},
   "outputs": [],
   "source": [
    "# Create the free energy protocol.\n",
    "protocol = BSS.Protocol.FreeEnergy(timestep=2*BSS.Units.Time.femtosecond, runtime=4*BSS.Units.Time.nanosecond, num_lam=12)"
   ]
  },
  {
   "cell_type": "markdown",
   "metadata": {},
   "source": [
    "### 3.1.2. Exercise on merged molecules\n",
    "Previously we have set up an ethane to methanol alchemical free energy simulation. One way of assessing how good an estimate of a free energy difference from an alchemical simulation is, by running the simulation in the opposite direction, i.e. methanol to ethane. Can you set up a new merged molecule and run the necessary steps for the free energy setup?"
   ]
  },
  {
   "cell_type": "code",
   "execution_count": null,
   "metadata": {},
   "outputs": [],
   "source": [
    "mapping = {}\n",
    "mapping = #FIXME\n",
    "\n",
    "# Align lig0 to lig1 based on the mapping.\n",
    "methanol = BSS.Align.rmsdAlign(#FIXME)\n",
    "\n",
    "# Merge the two ligands based on the mapping.\n",
    "merged_methanol = #FIXME\n",
    "solvated_methanol = #FIXME\n",
    "freenrg_methanol = #FIXME"
   ]
  },
  {
   "cell_type": "markdown",
   "metadata": {},
   "source": [
    "### Solution"
   ]
  },
  {
   "cell_type": "code",
   "execution_count": null,
   "metadata": {},
   "outputs": [],
   "source": [
    "mapping = {}\n",
    "mapping = BSS.Align.matchAtoms(methanol, ethane)\n",
    "\n",
    "# Align lig0 to lig1 based on the mapping.\n",
    "methanol = BSS.Align.rmsdAlign(methanol,ethane,mapping)\n",
    "\n",
    "# Merge the two ligands based on the mapping.\n",
    "merged_methanol = BSS.Align.merge(methanol, ethane, mapping)\n",
    "solvated_methanol = BSS.Solvent.tip3p(molecule=merged_methanol, box=3*[40*BSS.Units.Length.angstrom])\n",
    "freenrg_methanol = BSS.FreeEnergy.Solvation(solvated_methanol, protocol, work_dir=\"methanol_ethane\")"
   ]
  },
  {
   "cell_type": "markdown",
   "metadata": {},
   "source": [
    "### 3.1.3. Exercise on using different simulation engines\n",
    "Currently, alchemical free energy simulations with SOMD and Gromacs are supported. Can you figure out how to setup and run the simulations using SOMD rather than the default of Gromacs? **Hint**: look at the `engine` keyword of `FreeEnergy.Solvation()`. You might also want to change the working directory"
   ]
  },
  {
   "cell_type": "code",
   "execution_count": null,
   "metadata": {},
   "outputs": [],
   "source": [
    "freenrg_somd = BSS.FreeEnergy.Solvation(#FIXME)"
   ]
  },
  {
   "cell_type": "markdown",
   "metadata": {},
   "source": [
    "### Solution"
   ]
  },
  {
   "cell_type": "code",
   "execution_count": null,
   "metadata": {},
   "outputs": [],
   "source": [
    "freenrg_somd = BSS.FreeEnergy.Solvation(solvated_methanol, protocol, work_dir=\"methanol_ethane_somd\", engine='somd')"
   ]
  },
  {
   "cell_type": "markdown",
   "metadata": {},
   "source": [
    "You will notice that again in your `work_dir`, two directories were created `free` and `vacuum`. Have a look at the content of these directories. You will notice that now the input files that were generated are now indeed for SOMD and not Gromacs inputfiles anymore. Take a moment to look at the config files etc. "
   ]
  },
  {
   "cell_type": "code",
   "execution_count": null,
   "metadata": {},
   "outputs": [],
   "source": [
    "! ls ethane_methanol_somd/free/lambda_0.000"
   ]
  },
  {
   "cell_type": "markdown",
   "metadata": {},
   "source": [
    "## 4. Free energy of binding\n",
    "<a id=\"bind\"></a>\n",
    "\n",
    "So far we have done a setup for free energies of hydration. Next how can we use BioSimSpace to compute free energies of binding by setting up an alchemical free energy simulation for this. The thermodynamic cycle for the free energy of binding looks like this:\n",
    "\n",
    "![reltherm](images/thermo_cycle_rel_eq.png)\n",
    "\n",
    "In out case the host is Lysozyme, an antimicrobial protein, which has been studied extensivley using alchemical free energy calculations in the past.  "
   ]
  },
  {
   "cell_type": "markdown",
   "metadata": {},
   "source": [
    "### 4.1 Loading parametrising the protein protein\n",
    "Loading the protein is done in the same way as loading the small molecules. However, in order to compute free energies of binding, we have to make sure that the ligand is aligned with the protein and in an appropriate binding site. BioSimSpace is not a docking program. Therefore ligands will have to be aligned for alchemical free energy calculations in a different way. First, we will load the protein and ligands to check if they are aligned correctly for the calculation. "
   ]
  },
  {
   "cell_type": "code",
   "execution_count": null,
   "metadata": {
    "scrolled": false
   },
   "outputs": [],
   "source": [
    "lysozyme = BSS.IO.readMolecules(\"data/protein.pdb\")"
   ]
  },
  {
   "cell_type": "code",
   "execution_count": null,
   "metadata": {},
   "outputs": [],
   "source": [
    "benzene = BSS.IO.readMolecules('data/benzene.mol2').getMolecules()[0]\n",
    "o_xylene = BSS.IO.readMolecules('data/o-xylene.mol2').getMolecules()[0]"
   ]
  },
  {
   "cell_type": "code",
   "execution_count": null,
   "metadata": {},
   "outputs": [],
   "source": [
    "system = lysozyme+benzene+o_xylene"
   ]
  },
  {
   "cell_type": "code",
   "execution_count": null,
   "metadata": {},
   "outputs": [],
   "source": [
    "BSS.IO.saveMolecules('prot_lig', system, 'pdb')"
   ]
  },
  {
   "cell_type": "code",
   "execution_count": null,
   "metadata": {},
   "outputs": [],
   "source": [
    "BSS.viewMolecules('prot_lig.pdb')"
   ]
  },
  {
   "cell_type": "markdown",
   "metadata": {},
   "source": [
    "### 4.2 Parametrisation\n",
    "<a id=\"param\"></a>\n",
    "\n",
    "For the protein, we can use a standard Amber forcefield such as `amber 14 BS`"
   ]
  },
  {
   "cell_type": "code",
   "execution_count": null,
   "metadata": {},
   "outputs": [],
   "source": [
    "lysozyme = BSS.Parameters.ff14SB(lysozyme.getMolecules()[0]).getMolecule()"
   ]
  },
  {
   "cell_type": "markdown",
   "metadata": {},
   "source": [
    "For the two ligands we can chose to parametrise them using `gaff2`. "
   ]
  },
  {
   "cell_type": "code",
   "execution_count": null,
   "metadata": {},
   "outputs": [],
   "source": [
    "benzene = BSS.Parameters.gaff2(benzene).getMolecule()\n",
    "o_xylene = BSS.Parameters.gaff2(o_xylene).getMolecule()"
   ]
  },
  {
   "cell_type": "markdown",
   "metadata": {},
   "source": [
    "### 5.3 Morphing again\n",
    "\n",
    "Now all we have to do is go back through the morphing process and then combine the system. "
   ]
  },
  {
   "cell_type": "code",
   "execution_count": null,
   "metadata": {},
   "outputs": [],
   "source": [
    "mapping = BSS.Align.matchAtoms(o_xylene, benzene)"
   ]
  },
  {
   "cell_type": "code",
   "execution_count": null,
   "metadata": {},
   "outputs": [],
   "source": [
    "# Align lig0 to lig1 based on the mapping.\n",
    "o_xylene = BSS.Align.rmsdAlign(o_xylene, benzene, mapping)\n",
    "\n",
    "# Merge the two ligands based on the mapping.\n",
    "merged = BSS.Align.merge(o_xylene, benzene, mapping)"
   ]
  },
  {
   "cell_type": "code",
   "execution_count": null,
   "metadata": {},
   "outputs": [],
   "source": [
    "# Merge the two ligands based on the mapping.\n",
    "merged = BSS.Align.merge(o_xylene, benzene, mapping, allow_ring_breaking=True)"
   ]
  },
  {
   "cell_type": "code",
   "execution_count": null,
   "metadata": {},
   "outputs": [],
   "source": [
    "## This creates the protein ligand system with the merged molecule\n",
    "system = merged + lysozyme"
   ]
  },
  {
   "cell_type": "markdown",
   "metadata": {},
   "source": [
    "### 5.4 Binding free energy simulation\n",
    "Now we can run the binding free energy simulation. It looks very similar to the solvation one. "
   ]
  },
  {
   "cell_type": "code",
   "execution_count": null,
   "metadata": {},
   "outputs": [],
   "source": [
    "# Solvate in a 60 angstrom box of TIP3P water.\n",
    "solvated = BSS.Solvent.tip3p(molecule=system, box=3*[60*BSS.Units.Length.angstrom])\n",
    "\n",
    "# Create the free energy protocol.\n",
    "protocol = BSS.Protocol.FreeEnergy(runtime=4*BSS.Units.Time.nanosecond, num_lam=9)\n",
    "\n",
    "# Initialise the binding free energy object.\n",
    "freenrg = BSS.FreeEnergy.Binding(solvated, protocol, work_dir=\"Binding_benzene_o_xylene\" )"
   ]
  },
  {
   "cell_type": "markdown",
   "metadata": {},
   "source": [
    "`freenrg.run()`\n",
    "Would again run the simulation again. "
   ]
  },
  {
   "cell_type": "markdown",
   "metadata": {},
   "source": [
    "### 5.5 Exercises\n",
    "<a id=\"exerc2\"></a>\n",
    "Exercises for binding free energies. "
   ]
  },
  {
   "cell_type": "markdown",
   "metadata": {},
   "source": [
    "### 5.5.1 Looking at the directories\n",
    "Just take a look at the directory that was generated using `BSS.FreeEnergy.Binding()`.\n",
    "What are the differences and similarities you can observe between the solvation free energies setup and binding free energy setup? "
   ]
  },
  {
   "cell_type": "markdown",
   "metadata": {},
   "source": [
    "### 5.5.2 Box sizes of the solvated leg\n",
    "One thing you can notice is that the box size of the bound and free leg are the same. This of course is a bit silly, because you don't need to use such a large box for just running the ligand in water. There is a handy way of adjusting this. "
   ]
  },
  {
   "cell_type": "code",
   "execution_count": null,
   "metadata": {},
   "outputs": [],
   "source": [
    "# Solvate in a 60 angstrom box of TIP3P water.\n",
    "solvated = BSS.Solvent.tip3p(molecule=system, box=3*[60*BSS.Units.Length.angstrom])\n",
    "# Create the free energy protocol.\n",
    "protocol = BSS.Protocol.FreeEnergy(runtime=4*BSS.Units.Time.nanosecond, num_lam=9)\n",
    "# try using a workdirecotry called `exercise_5` and a box size for the free leg of the simulations of 30 angstrom. \n",
    "freenrg = BSS.FreeEnergy.Binding(#FIXME )"
   ]
  },
  {
   "cell_type": "markdown",
   "metadata": {},
   "source": [
    "### Solution"
   ]
  },
  {
   "cell_type": "code",
   "execution_count": null,
   "metadata": {},
   "outputs": [],
   "source": [
    "# Solvate in a 60 angstrom box of TIP3P water.\n",
    "solvated = BSS.Solvent.tip3p(molecule=system, box=3*[60*BSS.Units.Length.angstrom])\n",
    "# Create the free energy protocol.\n",
    "protocol = BSS.Protocol.FreeEnergy(runtime=4*BSS.Units.Time.nanosecond, num_lam=9)\n",
    "# try using a workdirecotry called `exercise_5` and a box size for the free leg of the simulations of 30 angstrom. \n",
    "freenrg = BSS.FreeEnergy.Binding(solvated, protocol, work_dir=\"exercise_5\", box=3*[30*BSS.Units.Length.angstrom])"
   ]
  },
  {
   "cell_type": "markdown",
   "metadata": {},
   "source": [
    "### 5.5.3. Running a minimisation and equilibration before the production\n",
    "While `SOMD` will automatically minimise and equilibrate the system, Gromacs will not. You can use BioSimSpace to do this. **Hint**: use the [documentation](https://biosimspace.org/) and this morning workshop to do this. Also when returning the system use `getSystem(block=True)`"
   ]
  },
  {
   "cell_type": "code",
   "execution_count": null,
   "metadata": {},
   "outputs": [],
   "source": [
    "### Solution\n",
    "\n",
    "# Solvate in a 60 angstrom box of TIP3P water.\n",
    "solvated = BSS.Solvent.tip3p(molecule=system, box=3*[60*BSS.Units.Length.angstrom])\n",
    "\n",
    "minimised = BSS.Process.Gromacs(solvated, BSS.Protocol.Minimisation()) \\\n",
    "               .start().getSystem()\n",
    "\n",
    "equilibrated = BSS.Process.Gromacs(minimised, BSS.Protocol.Equilibration()) \\\n",
    "                  .start().getSystem()\n",
    "\n",
    "# Create the free energy protocol.\n",
    "protocol = BSS.Protocol.FreeEnergy(runtime=4*BSS.Units.Time.nanosecond, num_lam=9)\n",
    "# Initialise the binding free energy object.\n",
    "freenrg = BSS.FreeEnergy.Binding(equilibrated, protocol, work_dir=\"exercise_5_3 \" )# Solvate in a 60 angstrom box of TIP3P water.\n",
    "solvated = BSS.Solvent.tip3p(molecule=system, box=3*[60*BSS.Units.Length.angstrom])\n",
    "\n",
    "minimised = #FIXME\n",
    "equilibrated = #FIXME\n",
    "\n",
    "# Create the free energy protocol.\n",
    "protocol = BSS.Protocol.FreeEnergy(runtime=4*BSS.Units.Time.nanosecond, num_lam=9)\n",
    "# Initialise the binding free energy object.\n",
    "freenrg = BSS.FreeEnergy.Binding(equilibrated, protocol, work_dir=\"exercise_5_3 \" )"
   ]
  },
  {
   "cell_type": "markdown",
   "metadata": {},
   "source": [
    "### Solution"
   ]
  },
  {
   "cell_type": "code",
   "execution_count": null,
   "metadata": {},
   "outputs": [],
   "source": [
    "# Solvate in a 60 angstrom box of TIP3P water.\n",
    "solvated = BSS.Solvent.tip3p(molecule=system, box=3*[60*BSS.Units.Length.angstrom])\n",
    "\n",
    "minimised = BSS.Process.Gromacs(solvated, BSS.Protocol.Minimisation(block=True)) \\\n",
    "               .start().getSystem()\n",
    "\n",
    "equilibrated = BSS.Process.Gromacs(minimised, BSS.Protocol.Equilibration(block=True)) \\\n",
    "                  .start().getSystem()\n",
    "\n",
    "# Create the free energy protocol.\n",
    "protocol = BSS.Protocol.FreeEnergy(runtime=4*BSS.Units.Time.nanosecond, num_lam=9)\n",
    "# Initialise the binding free energy object.\n",
    "freenrg = BSS.FreeEnergy.Binding(equilibrated, protocol, work_dir=\"exercise_5_3 \" )"
   ]
  }
 ],
 "metadata": {
  "kernelspec": {
   "display_name": "Python 3",
   "language": "python",
   "name": "python3"
  },
  "language_info": {
   "codemirror_mode": {
    "name": "ipython",
    "version": 3
   },
   "file_extension": ".py",
   "mimetype": "text/x-python",
   "name": "python",
   "nbconvert_exporter": "python",
   "pygments_lexer": "ipython3",
   "version": "3.6.6"
  }
 },
 "nbformat": 4,
 "nbformat_minor": 2
}
