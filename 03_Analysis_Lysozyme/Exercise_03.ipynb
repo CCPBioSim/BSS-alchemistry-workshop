{
 "cells": [
  {
   "cell_type": "markdown",
   "metadata": {},
   "source": [
    "# Setting up and Analysing Binding Free Energies of Lysozyme\n",
    "\n",
    "This notebook will guide you through how to run an analysis for calculating relative free energies of binding from alchemical free energy simulations in a notebook rather than the command line. In particular we will look at computing the relative free energies of binding for Lysozyme ligands. \n",
    "\n",
    "\n",
    "The notebook forms part of the CCPBio-Sim workshop **Alchemical Free Energy Simulation Analysis with analyse_freenrg** run on the 11th of April 2018 at the University of Bristol.\n",
    "\n",
    "*Author: Antonia Mey   \n",
    "Email: antonia.mey@ed.ac.uk*\n",
    "\n",
    "**Reading time of the document: 50 mins**"
   ]
  },
  {
   "cell_type": "markdown",
   "metadata": {},
   "source": [
    "## Let's start with the necessary imports"
   ]
  },
  {
   "cell_type": "code",
   "execution_count": null,
   "metadata": {},
   "outputs": [],
   "source": [
    "%pylab inline\n",
    "from Sire.Tools.FreeEnergyAnalysis import NotebookHelper\n",
    "from Sire.Units import *\n",
    "import glob\n",
    "from PIL import Image\n",
    "import seaborn as sbn\n",
    "sbn.set_style(\"ticks\")\n",
    "sbn.set_context(\"notebook\", font_scale = 2)\n",
    "from ipywidgets import interact, interactive, fixed, interact_manual, Layout, Label\n",
    "import ipywidgets as widgets\n",
    "## This sets style for widges used later\n",
    "style = {'description_width': 'initial'}\n",
    "layout = Layout(flex='2 1 auto', width='auto')"
   ]
  },
  {
   "cell_type": "markdown",
   "metadata": {},
   "source": [
    "## Free energies of binding\n",
    "\n",
    "This notebook is designed to analyse a series of simulations which were run using an alchemical free energy approach. We will look at how to compute an individual relative binding free energy from a single set of perturbations and how to analyse a whole perturbation map. As before for the ethane/methanol example we can actually write down a thermodynamic cycle that allows the estimation of relative binding free energies of two ligands. In the pictorial example below we have one ligand represented by a circle and another by a square:\n",
    "\n",
    "![cycle](images/Therm_cycle.png)\n",
    "\n",
    "The analysis will be done using the `analyse_freenrg mbar` tool in Sire, as well as directly interacting with the python interface to compute binding free energies.   \n",
    "From the thermodynamic cycle you can compute the free energy of binding as:   \n",
    "\n",
    "![ddg](images/DDG.png)\n",
    "\n",
    "Each ΔG can be computed using either TI or MBAR, to then evaluate a relative free energy between two different ligands. "
   ]
  },
  {
   "cell_type": "markdown",
   "metadata": {},
   "source": [
    "## Perturbation map and directory structure\n",
    "\n",
    "Often we have a large number of ligands for which we want to evaluate the relative binding free energies. Take a look at the set of perturbations of the example ligands of lysozyme we will be using. What you see is an example of a perturbation map you would have designed when using FESetup. Yes it gets rather complicated and confusing. \n",
    "\n",
    "![map](images/perturbation_map.png)\n",
    "\n",
    "Simulations were run for each of the arrows in the perturbation map. Obviously each arrow represents a simulation of the ligand in solution and of the ligand bound to the protein lysozyme. ΔΔG is then computed as defined above and each arrow in this way represents a relative binding free energy between the two ligands the arrow is connecting. "
   ]
  },
  {
   "cell_type": "markdown",
   "metadata": {},
   "source": [
    "The image below summarises the directory structured used for the simulations. It is very similar to that of the ethane~methanol simulation, but now we have a lot more data sets than just the ethane~methanol one. \n",
    "\n",
    "![datastruc](images/Directory_structure.png)"
   ]
  },
  {
   "cell_type": "markdown",
   "metadata": {},
   "source": [
    "## How was the simulation generated?\n",
    "The following is a typical way of phrasing simulation information from a methods section. However, there is some crucial information missing. \n",
    "\n",
    "\n",
    "*Methods:   \n",
    "Each simulation box was treated with **[boundary condition?]** and simulations were run for **[?]** ns each using a **[?]** fs integration timestep with a **[integrator ?]** integrator. Bonds involving hydrogens were constrained, except if the hydrogen atom was morphed to a heavy atom in the perturbation. The temperature was maintained at **[?]** K using an **[?]** thermostat and a collision frequency of **[?]** with velocities initially drawn from a Maxwell–Boltzmann distribution of that temperature. Pressure was kept at **[?]** atm using the Monte Carlo Barostat implemented in OpenMM with an update frequency of **[?]** MD steps. For non-bonded interactions an atom-based shifted Barker–Watts reaction field scheme was used with a cutoff of **[?]** Å and the reaction field dielectric constant **[?]**. Lambda values **[complete a sentence about lambda values]** [...]*\n",
    "\n",
    "**Task: Can you extract this information from the simulation configuration input file?**"
   ]
  },
  {
   "cell_type": "code",
   "execution_count": null,
   "metadata": {},
   "outputs": [],
   "source": [
    "!cat images/siminfo.dat"
   ]
  },
  {
   "cell_type": "markdown",
   "metadata": {},
   "source": [
    "## Running the analysis"
   ]
  },
  {
   "cell_type": "markdown",
   "metadata": {},
   "source": [
    "### The old way -- analyse_freenrg mbar from the command line\n",
    "Make use of the knowledge you have gained from the hydration free energy example to complete the task below:"
   ]
  },
  {
   "cell_type": "markdown",
   "metadata": {},
   "source": [
    "**Task: Can you run analyse_freenrg mbar for indole~indene for both the bound and solvated part in order to compute the free energy difference in both states.** Look at the output files to then give an estimate for the binding free energy using the formula for computing relative binding free energies above."
   ]
  },
  {
   "cell_type": "code",
   "execution_count": null,
   "metadata": {},
   "outputs": [],
   "source": [
    "##Insert code here\n",
    "\n",
    "\n"
   ]
  },
  {
   "cell_type": "markdown",
   "metadata": {},
   "source": [
    "### The new way -- running the analysis in the notebook \n",
    "Obviously you don't want to run this analysis manually for all the perturbation data. For this purpose we have created an interactive notebook widget. The notebook helper is a class that was written to make an interactive analysis as easy as possible. Below we initialise the NotebookHelper object and then initialise the notebook which will display a collection of widgets which will allow us to interactively set variables. "
   ]
  },
  {
   "cell_type": "code",
   "execution_count": null,
   "metadata": {},
   "outputs": [],
   "source": [
    "nbh = NotebookHelper()"
   ]
  },
  {
   "cell_type": "markdown",
   "metadata": {},
   "source": [
    "In the box below set the parameters you would like to set for the analysis. I.e. the path in which all perturbations can be found, the output directory where all output files should be collected, the number of initial frames that should be discarded from each simulation, or whether to compute an overlap matrix or not. \n",
    "\n",
    "When calling `nbh.update()` you can update the variables set with the widget box above at any point in time. "
   ]
  },
  {
   "cell_type": "code",
   "execution_count": null,
   "metadata": {},
   "outputs": [],
   "source": [
    "#The code below visualises the widget for interactively working with the data\n",
    "ui = nbh.initialise_notebook()\n",
    "display(ui)"
   ]
  },
  {
   "cell_type": "code",
   "execution_count": null,
   "metadata": {},
   "outputs": [],
   "source": [
    "nbh.update()"
   ]
  },
  {
   "cell_type": "markdown",
   "metadata": {},
   "source": [
    "With having set the simulation directory, all perturbation are read from that base directory."
   ]
  },
  {
   "cell_type": "code",
   "execution_count": null,
   "metadata": {},
   "outputs": [],
   "source": [
    "perturbation_list = nbh.perturbation_list"
   ]
  },
  {
   "cell_type": "markdown",
   "metadata": {},
   "source": [
    "Let's check that we actually have the correct perturbations"
   ]
  },
  {
   "cell_type": "code",
   "execution_count": null,
   "metadata": {},
   "outputs": [],
   "source": [
    "print (perturbation_list)"
   ]
  },
  {
   "cell_type": "markdown",
   "metadata": {},
   "source": [
    "### Running a single analysis\n",
    "Below we manually walk through running an analysis for a bound simulation ( protein + ligand ) and ligand in water. Note: The same could be done for a simulation in vacuum and ligand in water to obtain a hydration free energy.\n",
    "\n",
    "\n",
    "We are selecting the entry `indene~indole` of the `perturbation_list` to run the analysis. As before we need to read data from the `simfile.dat` input files that can be found in every λ directory. So basically the variable `input_files` needs to contain a list of all `simfile.dat` files generated in one alchemical simulation of a protein + ligand or a ligand in water, while undergoing the alchemical transformation. "
   ]
  },
  {
   "cell_type": "markdown",
   "metadata": {},
   "source": [
    "Let's start by finding the index of our `indene~indole` simulation in our perturbation list:"
   ]
  },
  {
   "cell_type": "code",
   "execution_count": null,
   "metadata": {},
   "outputs": [],
   "source": [
    "index = perturbation_list.index('indene~indole')"
   ]
  },
  {
   "cell_type": "markdown",
   "metadata": {},
   "source": [
    "Now we can genearate a list of all the simfiles for the bound and free simulation using the `glob` functionality. "
   ]
  },
  {
   "cell_type": "code",
   "execution_count": null,
   "metadata": {},
   "outputs": [],
   "source": [
    "input_files_bound = glob.glob(nbh._basedir+'/'+perturbation_list[index]+'/run001/bound/output/lambda-*/simfile.dat.bz2')\n",
    "input_files_free = glob.glob(nbh._basedir+'/'+perturbation_list[index]+'/run001/free/output/lambda-*/simfile.dat.bz2')"
   ]
  },
  {
   "cell_type": "markdown",
   "metadata": {},
   "source": [
    "Next we compute free energies from the `bound` and `free` simulations, passing the list of input files to the compute_free_energies function of the Notebook Helper class.    \n",
    "\n",
    "What exactly does the computer_free_energies_function do? We can take a look at the help text for it: Hit Ctrl+tab in a cell where you have written `nbh.compute_free_energies(`\n",
    "\n",
    "```python\n",
    "    def compute_free_energies(self, input_files, TI = False):\n",
    "        r\"\"\"computes free energies\n",
    "        Parameters:\n",
    "        -----------\n",
    "        input_files : FILES\n",
    "            list of simulation.dat files for a given lambda\n",
    "        TI : boolean\n",
    "            decides whether to also compute TI free energies or just MBAR free energies\n",
    "            Default: False\n",
    "\n",
    "        Returns:\n",
    "        --------\n",
    "        free_energies : FreeEnergy object\n",
    "            object contains free energy differences \n",
    "        T : float\n",
    "            temperature at which simulations were run, as recorded in the simfile.dat files\n",
    "        \"\"\"\n",
    "```\n",
    "It returns a free energy object and the simulation temperature as read from the simulation files. In the following we execute our function in order to get our free energy objects."
   ]
  },
  {
   "cell_type": "code",
   "execution_count": null,
   "metadata": {},
   "outputs": [],
   "source": [
    "%%capture runinfo\n",
    "bound, T = nbh.compute_free_energies(input_files_bound)\n",
    "free, T = nbh.compute_free_energies(input_files_free)"
   ]
  },
  {
   "cell_type": "code",
   "execution_count": null,
   "metadata": {},
   "outputs": [],
   "source": [
    "runinfo.show()"
   ]
  },
  {
   "cell_type": "markdown",
   "metadata": {},
   "source": [
    "`bound` and `free` are FreeEnergy objects, that contain information from an MBAR or thermodynamic integration free energy analysis. Next we manually compute the relative free energy difference of binding between indene and indole. Additionally the FreeEnergy objects contain a bunch of useful information from the simulations, in particular the computed free energy difference and errors taken from mbar."
   ]
  },
  {
   "cell_type": "code",
   "execution_count": null,
   "metadata": {},
   "outputs": [],
   "source": [
    "DDG = bound.deltaF_mbar* T * k_boltz-free.deltaF_mbar* T * k_boltz\n",
    "dDDG = sqrt((bound.errorF_mbar * T * k_boltz)**2+(free.errorF_mbar * T * k_boltz)**2)"
   ]
  },
  {
   "cell_type": "code",
   "execution_count": null,
   "metadata": {},
   "outputs": [],
   "source": [
    "print('Free energy in kcal/mol and error in kcal/mol for:')\n",
    "print('%s,%s,%.2f,%.2f kcal/mol' %(perturbation_list[index].split('~')[0],perturbation_list[index].split('~')[1],DDG,dDDG))"
   ]
  },
  {
   "cell_type": "markdown",
   "metadata": {},
   "source": [
    "**Task: Can you compare the computed relative free energy of binding of indene and indole to an experimental value?**   \n",
    "Indene~Indole: ΔΔG (indene~indole) = -4.89 -(-5.13) = 0.24 kcal/mol"
   ]
  },
  {
   "cell_type": "code",
   "execution_count": null,
   "metadata": {},
   "outputs": [],
   "source": [
    "## Add some information here.\n",
    "\n"
   ]
  },
  {
   "cell_type": "markdown",
   "metadata": {},
   "source": [
    "So what about TI, can we compare the resutls from MBAR and TI as well?\n",
    "\n",
    "Note how above when we ran compute free energies we have set TI to False? What happens if you set TI to True?\n",
    "**Task: Can you figure out how to also compute free energy information using TI?"
   ]
  },
  {
   "cell_type": "code",
   "execution_count": null,
   "metadata": {},
   "outputs": [],
   "source": [
    "## Insert code that will run TI.\n",
    "\n"
   ]
  },
  {
   "cell_type": "code",
   "execution_count": null,
   "metadata": {},
   "outputs": [],
   "source": [
    "DDG_TI = bound.deltaF_ti* T * k_boltz-free.deltaF_ti* T * k_boltz\n",
    "\n",
    "print('Free energy in kcal/mol and error in kcal/mol for:')\n",
    "print('%s,%s,%.2f kcal/mol' %(perturbation_list[index].split('~')[0],perturbation_list[index].split('~')[1],DDG_TI))"
   ]
  },
  {
   "cell_type": "markdown",
   "metadata": {},
   "source": [
    "How well do the TI, MBAR and experimental results agree?"
   ]
  },
  {
   "cell_type": "markdown",
   "metadata": {},
   "source": []
  },
  {
   "cell_type": "markdown",
   "metadata": {},
   "source": [
    "### Assessing the quality and reliability of your results. \n",
    "In conjunction with the ethane methanol tutorial we looked at some ways to evaluate robustness of data in particular before comparing results to experimental values and also to potentially identify reasons why a simulation might give a poor result. Two easy ways to check whether your estimate is likely to be good is using the overlap matrix and the average gradients with respect to lambda. Let's take a look at how to compute these in the following."
   ]
  },
  {
   "cell_type": "markdown",
   "metadata": {},
   "source": [
    "**Task: Can you plot the overlap matrix of the bound and free simulations?** \n",
    "Hint: using the FreeEnergy objects `bound` and `free` will make this very easy? For plotting an overlap matrix using the seaborn option of a heatmap (see previous exercise) might be a good idea. "
   ]
  },
  {
   "cell_type": "code",
   "execution_count": null,
   "metadata": {},
   "outputs": [],
   "source": [
    "## Insert code to plot the overlap matrix of the ligand bound to the protein.\n",
    "\n",
    "\n"
   ]
  },
  {
   "cell_type": "code",
   "execution_count": null,
   "metadata": {},
   "outputs": [],
   "source": [
    "## Insert code to plot the overlap matrix of the ligand free in solution. \n",
    "\n",
    "\n"
   ]
  },
  {
   "cell_type": "markdown",
   "metadata": {},
   "source": [
    "**Can you plot the average gradient with respect to lambda with error bars for the protein bound and ligand in solution simulations?**"
   ]
  },
  {
   "cell_type": "code",
   "execution_count": null,
   "metadata": {},
   "outputs": [],
   "source": [
    "## Insert code to plot the average gradient of the ligand bound to the protein.\n",
    "\n",
    "\n"
   ]
  },
  {
   "cell_type": "code",
   "execution_count": null,
   "metadata": {},
   "outputs": [],
   "source": [
    "## Insert code to plot the average gradient of the ligand free in solution. \n",
    "\n",
    "\n"
   ]
  },
  {
   "cell_type": "markdown",
   "metadata": {},
   "source": [
    "### Analysis in batch mode\n",
    "It is all nice to have the `bound` and `free` analysis available for one set of simulations, but really what we want is the free energy difference of binding for all the perturbations we have run and ideally all the plots that tell us something about the quality of the results. The cell below executes the whole analysis for MBAR. "
   ]
  },
  {
   "cell_type": "code",
   "execution_count": null,
   "metadata": {},
   "outputs": [],
   "source": [
    "%%capture --no-display runinfo\n",
    "#the two lines below are used to track progress with a progress bar in form of a widget.\n",
    "#this is not necessary, but may be useful to figure out how much longer it may take to \n",
    "#execute one of these cells. \n",
    "pg_bar = widgets.IntProgress(min=0, max=len(perturbation_list),description=\"Perturbation analysis progress:\", layout=layout, style = style)\n",
    "display(pg_bar)\n",
    "\n",
    "##DDG_list will contain the final data we are interested in. \n",
    "DDG_list = []\n",
    "for pert in perturbation_list:\n",
    "    print (\"Working on perturbation: %s\" %pert)\n",
    "    sim_bound = '/run001/bound/output/lambda-*/simfile.dat.bz2'\n",
    "    sim_free = '/run001/free/output/lambda-*/simfile.dat.bz2'\n",
    "    input_files_bound = glob.glob(nbh._basedir+'/'+pert+sim_bound)\n",
    "    input_files_free = glob.glob(nbh._basedir+'/'+pert+sim_free)\n",
    "    result = nbh.run_free_energy_analysis(pert, input_files_bound, input_files_free)\n",
    "    DDG_list.append(result)\n",
    "    pg_bar.value+=1\n",
    "    print (\"Done.......\")\n",
    "    print (\"---------------------------\")"
   ]
  },
  {
   "cell_type": "markdown",
   "metadata": {},
   "source": [
    "We can print the ouptput information..."
   ]
  },
  {
   "cell_type": "code",
   "execution_count": null,
   "metadata": {},
   "outputs": [],
   "source": [
    "DDG_list"
   ]
  },
  {
   "cell_type": "markdown",
   "metadata": {},
   "source": [
    "... and also write it to file."
   ]
  },
  {
   "cell_type": "code",
   "execution_count": null,
   "metadata": {},
   "outputs": [],
   "source": [
    "nbh.write_free_energies(DDG_list)"
   ]
  },
  {
   "cell_type": "markdown",
   "metadata": {},
   "source": [
    "**Task: Look at the runinfo and inspect the standard and error out. What kind of warnings were generated? Should you be worried?**"
   ]
  },
  {
   "cell_type": "code",
   "execution_count": null,
   "metadata": {},
   "outputs": [],
   "source": [
    "##Insert code to look at runinfo\n",
    "\n",
    "\n"
   ]
  },
  {
   "cell_type": "markdown",
   "metadata": {},
   "source": [
    "### Looking at the output\n",
    "With the above we have generated a list of free energies, that was written to the output file provided in the widget field, but also will have generated all the overlap matrix plots, if the overlap matrix option had been selected. (If you hadn't selected the overlap matrix option now would be a good time to do so and rerun the analysis.)"
   ]
  },
  {
   "cell_type": "code",
   "execution_count": null,
   "metadata": {},
   "outputs": [],
   "source": [
    "all_matrices = glob.glob(nbh._outputdir+'/*.png')"
   ]
  },
  {
   "cell_type": "code",
   "execution_count": null,
   "metadata": {},
   "outputs": [],
   "source": [
    "print ('matrix: %s' %all_matrices[1])\n",
    "display(Image.open(all_matrices[1]))"
   ]
  },
  {
   "cell_type": "markdown",
   "metadata": {},
   "source": [
    "**Task: Play around a little with some of the overlap matrix plots. What do you observe?**"
   ]
  },
  {
   "cell_type": "markdown",
   "metadata": {},
   "source": [
    "**Task: Generate free energy estimates using TI.**   \n",
    "Take the code from the previous 'batch' analysis mode and modify it in such a way that we can also compute the relative free energies for TI. Also try and include plots for the average gradients to have a look at the reliability of the TI results.  "
   ]
  },
  {
   "cell_type": "code",
   "execution_count": null,
   "metadata": {},
   "outputs": [],
   "source": [
    "## updating the output info for the free energy file might be useful, i.e. you can change the \n",
    "# directory you want to write things to etc. \n",
    "ui = nbh.initialise_notebook()\n",
    "display(ui)"
   ]
  },
  {
   "cell_type": "code",
   "execution_count": null,
   "metadata": {},
   "outputs": [],
   "source": [
    "nbh.update()"
   ]
  },
  {
   "cell_type": "code",
   "execution_count": null,
   "metadata": {},
   "outputs": [],
   "source": [
    "%%capture --no-display runinfo\n",
    "#the two lines below are used to track progress with a progress bar in form of a widget.\n",
    "#this is not necessary, but may be useful to figure out how much longer it may take to \n",
    "#execute one of these cells. \n",
    "pg_bar = widgets.IntProgress(min=0, max=len(perturbation_list),description=\"Perturbation analysis progress:\", layout=layout, style = style)\n",
    "display(pg_bar)\n",
    "\n",
    "##DDG_list will contain the final data we are interested in. \n",
    "DDG_list_ti = []\n",
    "for pert in perturbation_list:\n",
    "    print (\"Working on perturbation: %s\" %pert)\n",
    "    sim_bound = '/run001/bound/output/lambda-*/simfile.dat.bz2'\n",
    "    sim_free = '/run001/free/output/lambda-*/simfile.dat.bz2'\n",
    "    input_files_bound = glob.glob(nbh._basedir+'/'+pert+sim_bound)\n",
    "    input_files_free = glob.glob(nbh._basedir+'/'+pert+sim_free)\n",
    "    ## update the function below\n",
    "    #----->!!!! Something needs to be done here!!!!!<--------#\n",
    "    result = nbh.run_free_energy_analysis()\n",
    "    DDG_list_ti.append(result)\n",
    "    pg_bar.value+=1\n",
    "    print (\"Done.......\")\n",
    "    print (\"---------------------------\")"
   ]
  },
  {
   "cell_type": "code",
   "execution_count": null,
   "metadata": {},
   "outputs": [],
   "source": [
    "nbh.write_free_energies(DDG_list_ti)"
   ]
  },
  {
   "cell_type": "code",
   "execution_count": null,
   "metadata": {},
   "outputs": [],
   "source": [
    "#print them to the terminal\n",
    "DDG_list_ti"
   ]
  },
  {
   "cell_type": "markdown",
   "metadata": {},
   "source": [
    "**Task: There is something odd going on with some of the TI binding free energy estiamtes. Have a look at the average gradients you generated, does this give you a clue?**"
   ]
  },
  {
   "cell_type": "code",
   "execution_count": null,
   "metadata": {},
   "outputs": [],
   "source": [
    "#Insert some code here to display your average gradient plots\n",
    "\n"
   ]
  },
  {
   "cell_type": "markdown",
   "metadata": {},
   "source": [
    "### Questions:\n",
    "- Based on the generated output how reliable do you think the estimates are going to be for:\n",
    "    - TI?\n",
    "    - MBAR?\n",
    "- Can you make suggestions on how you could improve the simulation protocol? Think of:\n",
    "    - Perturbations\n",
    "    - Lambda spacing\n",
    "    - Simulation length\n",
    "    - Repetitions"
   ]
  },
  {
   "cell_type": "markdown",
   "metadata": {},
   "source": [
    "Congratulations you have finished this tutorial! "
   ]
  }
 ],
 "metadata": {
  "kernelspec": {
   "display_name": "Python 3",
   "language": "python",
   "name": "python3"
  },
  "language_info": {
   "codemirror_mode": {
    "name": "ipython",
    "version": 3
   },
   "file_extension": ".py",
   "mimetype": "text/x-python",
   "name": "python",
   "nbconvert_exporter": "python",
   "pygments_lexer": "ipython3",
   "version": "3.5.2"
  }
 },
 "nbformat": 4,
 "nbformat_minor": 2
}
