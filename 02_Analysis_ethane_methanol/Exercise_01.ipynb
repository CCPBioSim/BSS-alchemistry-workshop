{
 "cells": [
  {
   "cell_type": "markdown",
   "metadata": {},
   "source": [
    "# Analysing Hydration Free Energies from a SOMD Simulation\n",
    "\n",
    "This notebook will guide you through how to run an alchemical free energy analysis. We are looking at how to compute the relative hydration free energy between ethane and methanol using the Sire tool `analyse_freenrg mbar`.\n",
    "\n",
    "\n",
    "The notebook forms part of the CCPBio-Sim workshop **Alchemical Free Energy Simulation Analysis with analyse_freenrg** run on the 11th of April 2018 at the University of Bristol.\n",
    "\n",
    "*Author: Antonia Mey   \n",
    "Email: antonia.mey@ed.ac.uk*\n",
    "\n",
    "**Reading time of the document: 30 mins**\n"
   ]
  },
  {
   "cell_type": "markdown",
   "metadata": {},
   "source": [
    "## Let's start with the necessary imports"
   ]
  },
  {
   "cell_type": "code",
   "execution_count": null,
   "metadata": {},
   "outputs": [],
   "source": [
    "%pylab inline\n",
    "import glob\n",
    "import seaborn as sbn\n",
    "sbn.set_style(\"ticks\")\n",
    "sbn.set_context(\"notebook\", font_scale = 2)"
   ]
  },
  {
   "cell_type": "markdown",
   "metadata": {},
   "source": [
    "## Quick reminder of what we are looking at\n",
    "\n",
    "This notebook is designed to run an alchemical free energy analysis. We are looking at how to compute the relative hydration free energy between ethane and methanol. The idea stems from using the fact that you can write down a thermodynamic cycle for the hydration process such as this:\n",
    "\n",
    "![cycle](images/Therm_cycle.png)\n",
    "\n",
    "The analysis will be done using the `analyse_freenrg mbar` tool in Sire, assuming that the required alchemical free energy calculations were run with somd-freenrg. It will be assumed that you have successfully run a simulation and data to be analysed can be found in the directory `data`."
   ]
  },
  {
   "cell_type": "markdown",
   "metadata": {},
   "source": [
    "## Understanding the data"
   ]
  },
  {
   "cell_type": "markdown",
   "metadata": {},
   "source": [
    "When we run a SOMD free energy calculation a lot of data is generated. Generally a good directory structure for keeping track of your data and allowing automation in the analysis is required. An example of how to structure your data is shown in the picture below and can be found in your current working directory of this notebook:\n",
    "![directory](images/Directory_structure.png)\n",
    "\n",
    "The directories ranging from `lambda-0.000` to `lambda-1.0000` contain the main ouptut data. You would normall find the following set of files:   \n",
    "\n",
    "``` gradients.dat  moves.dat    sim_restart.s3           SYSTEM.s3\n",
    "gradients.s3   simfile.dat  sim_restart.s3.previous  traj000000001.dcd```\n",
    "\n",
    "`.s3` files are sire related files. The file `traj000000001.dcd` contains the simulation trajectory."
   ]
  },
  {
   "cell_type": "markdown",
   "metadata": {},
   "source": [
    "**1. Task -- Can you visualise the trajectory of the λ=0.0 simulation of the vaccuum simulation using nglview and the topology file provided?**"
   ]
  },
  {
   "cell_type": "code",
   "execution_count": null,
   "metadata": {},
   "outputs": [],
   "source": [
    "#trajectory file\n",
    "traj_file = 'data/ethane~methanol/vacuum/run001/output/lambda-0.00/traj000000001.dcd'\n",
    "#topology file\n",
    "topology_file = 'data/ethane~methanol/vacuum/run001/output/lambda-0.00/SYSTEM.parm7'\n",
    "##Insert code here to load your trajectory into nglview\n",
    "import nglview as ng \n",
    "import mdtraj as md\n",
    "dcd = md.load(traj_file, top=topology_file)\n",
    "ng.show_mdtraj(dcd)"
   ]
  },
  {
   "cell_type": "markdown",
   "metadata": {},
   "source": [
    "The most important file needed for the data analysis however, is the `simfile.dat`. You can find in every λ directory. Let's have a look at what the file contains. We can easily access it using the `head` command:"
   ]
  },
  {
   "cell_type": "code",
   "execution_count": null,
   "metadata": {},
   "outputs": [],
   "source": [
    "!head -n13 data/ethane~methanol/free/run001/output/lambda-0.000/simfile.dat\n"
   ]
  },
  {
   "cell_type": "markdown",
   "metadata": {},
   "source": [
    "The file contains information on:\n",
    "- when it was generated, \n",
    "- what version of Sire/SOMD was used and \n",
    "- what essential simulation parameters were used. \n",
    "\n",
    "In particular you find information on \n",
    "- how long the simulation was run, \n",
    "- what the saving intervals was \n",
    "- what λ value was used, \n",
    "- what the other alchemical values were, \n",
    "- and the temperature of the simualtion. \n",
    "\n",
    "These are all recorded in the comments, as indicated by the #. The data in the file is then contained in the following columns, where headings are indicated. The step, the current potential energy in kcal/mol, the gradient, used for thermodynamic integration, in kcal/mol forward and backward Metropolis, which are not relevant for this tutorial, and reduced potential energies (unitless) of the energies evaluated at each alchemical state. Don't worry if this is a bit confusing, you don't really have to do anything with it, but it is necessary input for MBAR. "
   ]
  },
  {
   "cell_type": "markdown",
   "metadata": {},
   "source": [
    "## Actual data analysis using pymbar and thermodynamic integration\n",
    "\n",
    "In the following we will look at how we can actually extract the free energy differences using `analyse_freenrg mbar` to compute the relative hydration free energy of ethane and methanol. We will look at both ways to compute this free energy difference using the available command line interface but also how to easily compute "
   ]
  },
  {
   "cell_type": "markdown",
   "metadata": {},
   "source": [
    "### Using the commandline interface `analyse_freenrg mbar`\n",
    "You can open a terminal and compute a free energy from the simulations of the solvated molecule in water going through a pertubration and the free energy from the vaccuum simulation. You can either use the terminal along with the notebook or look at the cells below to execute a bash command. In order to get overview of all the functionality of the tool you can simply type `analyse_freenrg mbar --help`."
   ]
  },
  {
   "cell_type": "markdown",
   "metadata": {},
   "source": [
    "#### Soulte in Water\n",
    "For this you can either use the terminal to type: ` analyse_freenrg mbar -i data/ethane~methanol/free/run001/output/lambda-*/simfile.dat -o free.dat --subsampling` or invoke the next cell. This uses pymbar and computes a single ΔG for the perturbation of ethane to methanol while solvated in water. The output file `free.dat` contains all useful data for further analysis and we will look at it in a bit. "
   ]
  },
  {
   "cell_type": "code",
   "execution_count": null,
   "metadata": {},
   "outputs": [],
   "source": [
    "!analyse_freenrg mbar -i data/ethane~methanol/free/run001/output/lambda-*/simfile.dat -o free.dat --subsampling"
   ]
  },
  {
   "cell_type": "markdown",
   "metadata": {},
   "source": [
    "#### Solute in Vacuum\n",
    "Now we have to do the same analysis for the vacuum siumulations. Again type on the command line:\n",
    "`analyse_freenrg mbar -i data/ethane~methanol/vacuum/run001/output/lambda-*/simfile.dat -o vacuum.dat --subsampling`.\n",
    "Note how we have now replaced the `free` directroy with `vacuum` and use a different ouptutfile `vacuum.dat`. Below again is a simple way of executing it in this notebook"
   ]
  },
  {
   "cell_type": "code",
   "execution_count": null,
   "metadata": {},
   "outputs": [],
   "source": [
    "!analyse_freenrg mbar -i data/ethane~methanol/vacuum/run001/output/lambda-*/simfile.dat -o vacuum.dat --subsampling"
   ]
  },
  {
   "cell_type": "markdown",
   "metadata": {},
   "source": [
    "### Looking at the mbar output\n",
    "We have now generated the files `free.dat` and `vacuum.dat`. At the bottom of the file we have information on the computed free energy difference of the simulation in solution and vacuum. "
   ]
  },
  {
   "cell_type": "code",
   "execution_count": null,
   "metadata": {},
   "outputs": [],
   "source": [
    "!tail free.dat"
   ]
  },
  {
   "cell_type": "code",
   "execution_count": null,
   "metadata": {},
   "outputs": [],
   "source": [
    "!tail vacuum.dat"
   ]
  },
  {
   "cell_type": "markdown",
   "metadata": {},
   "source": [
    "Note how the free energy was computed for both thermodynamic integration and MBAR. One way of assuring that free energy estimates are not terrible is to compare these two different estiamtors to each other. They work very differently in which way they lead to the computation of the free energy and a close agreement is usually a good indication for having well converged simulations. \n",
    "\n",
    "Now we want to actually calculated ΔΔG of the relative hydration free energy for ethane and methanol. It is given by this formula:   \n",
    "![free_en](images/DDG.png)\n",
    "\n",
    "Let's extract the relevant information from the files we computed and find out the hydration free energy."
   ]
  },
  {
   "cell_type": "code",
   "execution_count": null,
   "metadata": {},
   "outputs": [],
   "source": [
    "#helper function to extract DG from the freenrg_analysis generated files. \n",
    "def get_nth_line(fname, line):\n",
    "    fh = open (fname, 'r')\n",
    "    lineList = fh.readlines()\n",
    "    fh.close()\n",
    "    return lineList[line].split(',')"
   ]
  },
  {
   "cell_type": "code",
   "execution_count": null,
   "metadata": {},
   "outputs": [],
   "source": [
    "vac_mbar = get_nth_line('vacuum.dat', -3)\n",
    "vac_ti = get_nth_line('vacuum.dat', -1)\n",
    "\n",
    "solv_mbar = get_nth_line('free.dat', -3)\n",
    "solv_ti = get_nth_line('free.dat', -1)\n",
    "\n",
    "#mbar\n",
    "DG_vac_mbar = float(vac_mbar[0])\n",
    "DG_solv_mbar = float(solv_mbar[0])\n",
    "\n",
    "#ti\n",
    "DG_vac_ti = float(vac_ti[0])\n",
    "DG_solv_ti = float(solv_ti[0])"
   ]
  },
  {
   "cell_type": "markdown",
   "metadata": {},
   "source": [
    "**2. Task: Compute ΔΔG according to the above formula using the data in the variable `DG_vac_mbar`, `DG_solv_mbar` for the free energy estimate using MBAR**"
   ]
  },
  {
   "cell_type": "code",
   "execution_count": null,
   "metadata": {},
   "outputs": [],
   "source": [
    "#insert code here"
   ]
  },
  {
   "cell_type": "markdown",
   "metadata": {},
   "source": [
    "**3. Task: Compute ΔΔG according to the above formula using the data in the variable `DG_vac_ti`, `DG_solv_ti` for the free energy estimate using MBAR**"
   ]
  },
  {
   "cell_type": "code",
   "execution_count": null,
   "metadata": {},
   "outputs": [],
   "source": [
    "#insert code here"
   ]
  },
  {
   "cell_type": "markdown",
   "metadata": {},
   "source": [
    "**The experimental absolute free energy of hydration of ethane is +1.8 kcal/mol. The experimental absolute free energy of hydration of methanol is -5.1 kcal/mol How well do the exeperimental results compare to the computed result?**"
   ]
  },
  {
   "cell_type": "markdown",
   "metadata": {},
   "source": [
    "## Errors and looking at more data\n",
    "We are running a simulation with limited data with the assumption that a time average over the data is a good represeantion of the average observable, i.e. the free energy in this case. Doing an error analysis is important.   \n",
    "MBAR does have an inbuilt error erstimate and we can compute the error to go along the computed `DDG_mbar` variable by doing some error propagation :\n",
    "![error](images/error_propagation.png)"
   ]
  },
  {
   "cell_type": "markdown",
   "metadata": {},
   "source": [
    "**4. Task: Compute the error on ΔΔG using the rules of error propagation.**"
   ]
  },
  {
   "cell_type": "code",
   "execution_count": null,
   "metadata": {},
   "outputs": [],
   "source": [
    "#retrieving the error\n",
    "DG_vac_mbar_error = float(vac_mbar[1])\n",
    "DG_solv_mbar_error = float(solv_mbar[1])\n",
    "#Now insert the code needed to estiamte the error:"
   ]
  },
  {
   "cell_type": "markdown",
   "metadata": {},
   "source": [
    "In order to obtain reliable error estimats it is strongly recommended to have multiple independent runs of your simulations. These independent runs can then be used get more accurate error estimates. "
   ]
  },
  {
   "cell_type": "markdown",
   "metadata": {},
   "source": [
    "### Comparing PMF of MBAR and TI\n",
    "The free energy files produced by `analyse_freenrg mbar` contain additional information, such as the potential of mean force over the different λ windows. Again we can compare MBAR estimates easily with TI estimates this way. Furthermore we can also look at the average gradient used for TI. In the following we will explore how to plot these. "
   ]
  },
  {
   "cell_type": "code",
   "execution_count": null,
   "metadata": {},
   "outputs": [],
   "source": [
    "#Let's read the free.dat file\n",
    "fh = open ('free.dat', 'r')\n",
    "lines = fh.readlines()\n",
    "fh.close()\n",
    "#Now we need to find the PMF in the file\n",
    "#Let's loop over the lines and extract the data\n",
    "count = 0\n",
    "num_lambdas = 11\n",
    "pmf_mbar = []\n",
    "pmf_ti = []\n",
    "for line in lines:\n",
    "    if line.startswith('#PMF from MBAR'):\n",
    "        pmf_mbar = lines[(count+1):(count+1+num_lambdas)]\n",
    "    if line.startswith('#PMF from TI'):\n",
    "        pmf_ti = lines[(count+1):(count+1+num_lambdas)]\n",
    "    count = count +1\n",
    "for i in range(len(pmf_mbar)):\n",
    "    temp = pmf_mbar[i].strip().split(' ')\n",
    "    float_temp = [float(i) for i in temp]\n",
    "    pmf_mbar[i] = float_temp\n",
    "pmf_mbar =np.array(pmf_mbar)\n",
    "\n",
    "for i in range(len(pmf_ti)):\n",
    "    temp = pmf_ti[i].strip().split(' ')\n",
    "    float_temp = [float(i) for i in temp]\n",
    "    pmf_ti[i] = float_temp\n",
    "pmf_ti =np.array(pmf_ti)"
   ]
  },
  {
   "cell_type": "markdown",
   "metadata": {},
   "source": [
    "Now we have two numpy array `pmf_ti` and `pmf_mbar`, wich we can use to plot the pmfs. The first column of the array is the lambda value. The second column of the array is free pmf and the third value for the mbar estimate is the error on the pmf. We can now plot these. Make sure you understand how to read and write a plot like this. "
   ]
  },
  {
   "cell_type": "code",
   "execution_count": null,
   "metadata": {},
   "outputs": [],
   "source": [
    "plot(pmf_ti[:,0], pmf_ti[:,1], marker = 'o', label='TI')\n",
    "errorbar(pmf_mbar[:,0], pmf_mbar[:,1], yerr=pmf_mbar[:,2], marker = '^', label='mbar')\n",
    "xlabel(r'$\\lambda$')\n",
    "ylabel('PMF in kcal/mol')\n",
    "legend()\n",
    "sbn.despine()"
   ]
  },
  {
   "cell_type": "markdown",
   "metadata": {},
   "source": [
    "### Plotting the average gradient\n",
    "Below we will create a similar plot as before using the average gradient. "
   ]
  },
  {
   "cell_type": "code",
   "execution_count": null,
   "metadata": {},
   "outputs": [],
   "source": [
    "## extracting gradient data\n",
    "count = 0\n",
    "num_lambdas = 11\n",
    "avg_gradient = []\n",
    "for line in lines:\n",
    "    if line.startswith('#TI average gradients'):\n",
    "        avg_gradient = lines[(count+1):(count+1+num_lambdas)]\n",
    "        break\n",
    "    count = count +1\n",
    "for i in range(len(avg_gradient)):\n",
    "    temp = avg_gradient[i].strip().split(' ')\n",
    "    float_temp = [float(i) for i in temp]\n",
    "    avg_gradient[i] = float_temp\n",
    "avg_gradient =np.array(avg_gradient)"
   ]
  },
  {
   "cell_type": "markdown",
   "metadata": {},
   "source": [
    "**5. Task: Plot `avg_gradient` using errorbar from the example above.**"
   ]
  },
  {
   "cell_type": "code",
   "execution_count": null,
   "metadata": {},
   "outputs": [],
   "source": []
  },
  {
   "cell_type": "markdown",
   "metadata": {},
   "source": [
    "## Best practices:\n",
    "So how do we know if the simulation is actually reliable or not. There are some rules of thumb that can be used to assess this, i.e. follow some best practices. \n",
    "\n",
    "We follow general guidelines presented by [Kilmovich, Shirts and Mobley](https://dx.doi.org/10.1007%2Fs10822-015-9840-9)\n",
    "\n",
    "The paper suggests the following:\n",
    "\"Conceptually, we break analysis into four main stages:\n",
    " - subsampling the data to retain uncorrelated samples\n",
    " - calculating free energy differences along with the corresponding statistical errors via a variety of TI-and FEP-based methods\n",
    "- producing textual and graphical outputs of the computed data inspecting for:\n",
    "   1. for convergence and identifying the equilibrated portion of the simulation\n",
    "   2. good phase space overlap for all pairs of adjacent lambda states\"\n",
    "   \n",
    "You will find that we have already addressed most of these best practice ideas. Indeed we used the `--subsampling` flag inorder to obtain uncorrelated samples from the data when running our analysis and we are comparing the free energy estimate using an integral based method (TI) and a reweighting method (MBAR). What we haven't done yet is look at phase space overlap and detecting equilibration. This will be handeled to some extent in the advanced tasks. In the following we will look at good phase space overlap of adjacent lambda states. "
   ]
  },
  {
   "cell_type": "markdown",
   "metadata": {},
   "source": [
    "### The overlap matrix\n",
    "can be used to look at the phase space overlap of neighbouring lambdas. By adding the flag `--overlap` this matrix will be automatically computed and added to the output file. So let's look at the overlap matrix for the simulation in solution and vacuum. This time we will write out a files called `free_overlap.dat` and `vacuum_overlap.dat`"
   ]
  },
  {
   "cell_type": "code",
   "execution_count": null,
   "metadata": {},
   "outputs": [],
   "source": [
    "%%capture run_info_vacuum\n",
    "#Let's run the analysis again with the keyword --overlap\n",
    "!analyse_freenrg mbar -i data/ethane~methanol/vacuum/run001/output/lambda-*/simfile.dat -o vacuum_overlap.dat --subsampling --overlap"
   ]
  },
  {
   "cell_type": "code",
   "execution_count": null,
   "metadata": {},
   "outputs": [],
   "source": [
    "%%capture run_info_solution\n",
    "!analyse_freenrg mbar -i data/ethane~methanol/free/run001/output/lambda-*/simfile.dat -o free_overlap.dat --subsampling --overlap"
   ]
  },
  {
   "cell_type": "code",
   "execution_count": null,
   "metadata": {},
   "outputs": [],
   "source": [
    "#A helper function to read the overlap matrix from file\n",
    "def get_overlp_matrix(filename, n_states=11):\n",
    "    fh = open (filename, 'r')\n",
    "    lines = fh.readlines()\n",
    "    fh.close()\n",
    "    count = 0\n",
    "    matrix = []\n",
    "    for line in lines:\n",
    "        if line.startswith('#Overlap'):\n",
    "            matrix = lines[(count+1):(count+1+n_states)]\n",
    "            break\n",
    "        count = count+1 \n",
    "    for i in range(len(matrix)):\n",
    "        temp = matrix[i].strip().split(' ')\n",
    "        float_temp = [float(j) for j in temp]\n",
    "        matrix[i] = float_temp\n",
    "    matrix =np.array(matrix)\n",
    "    return matrix"
   ]
  },
  {
   "cell_type": "code",
   "execution_count": null,
   "metadata": {},
   "outputs": [],
   "source": [
    "overlap_vacuum = get_overlp_matrix('vacuum_overlap.dat')\n",
    "overlap_solv = get_overlp_matrix('free_overlap.dat')"
   ]
  },
  {
   "cell_type": "markdown",
   "metadata": {},
   "source": [
    "### Plotting the overlap matrices\n",
    "The plotting library has a nice advanced heat map feature that allows you to not only plot a pictorial image of a matrix or heatmap but also add the numercal values making it easier to read the plot"
   ]
  },
  {
   "cell_type": "code",
   "execution_count": null,
   "metadata": {},
   "outputs": [],
   "source": [
    "fig = figure(figsize=(12,12))\n",
    "ax = sbn.heatmap(overlap_vacuum, annot=True, fmt='.2f', linewidths=.5, annot_kws={\"size\": 12})\n",
    "ax.set_xlabel(r'$\\lambda$ index')\n",
    "ax.set_ylabel(r'$\\lambda$ index')\n",
    "ax.set_title('Overlap matrix in vacuum')"
   ]
  },
  {
   "cell_type": "code",
   "execution_count": null,
   "metadata": {},
   "outputs": [],
   "source": [
    "fig = figure(figsize=(12,12))\n",
    "ax = sbn.heatmap(overlap_solv, annot=True, fmt='.2f', linewidths=.5, annot_kws={\"size\": 12})\n",
    "ax.set_xlabel(r'$\\lambda$ index')\n",
    "ax.set_ylabel(r'$\\lambda$ index')\n",
    "ax.set_title('Overlap matrix in solution')"
   ]
  },
  {
   "cell_type": "markdown",
   "metadata": {},
   "source": [
    "### Example of a bad overlap matrix\n",
    "Below we have the same simulation as before, but reducing the number of lambda windows from 11 to 6. What do you observe in terms of the overlap matrix? Have a look in `data/ethane~methanol`, where a 6-lambda simulation file has already been generated. "
   ]
  },
  {
   "cell_type": "code",
   "execution_count": null,
   "metadata": {},
   "outputs": [],
   "source": [
    "## insert code in order to plot the  overlap matrix for the reduced number of lambda windows."
   ]
  },
  {
   "cell_type": "markdown",
   "metadata": {},
   "source": [
    "### Advanced tasks\n",
    "Compare your estimate using less data. `analyse_freenrg mbar` has the option `--discard`. This will run your analysis with a number of frames discarded from the start of the simulation. "
   ]
  },
  {
   "cell_type": "markdown",
   "metadata": {},
   "source": [
    "Advanced tasks:\n",
    "1. Rerun the analysis discarding 1000 frames from the start writing out a new free.dat and vacuum.dat file. \n",
    "2. Compute the relative free energy of hydration from the new analysis. How does the value differe from your original estimate? Does is compare better or worse to the experimental value?\n",
    "3. Plot the PMF of the original analysis and the one with the initial 1000 frames discarded for the simulations in solution. What do you observe?\n",
    "4. Explore the various plots and overlaps for the vacuum simulation as well. "
   ]
  },
  {
   "cell_type": "code",
   "execution_count": null,
   "metadata": {},
   "outputs": [],
   "source": [
    "#Rerun with discarding 1000 frames form the vacuum simulation here:\n",
    "#Let's run the analysis again with the keyword --overlap\n",
    "\n",
    "\n"
   ]
  },
  {
   "cell_type": "code",
   "execution_count": null,
   "metadata": {},
   "outputs": [],
   "source": [
    "#Rerun with discarding 1000 frames form the solution simulation here:\n",
    "\n",
    "\n"
   ]
  },
  {
   "cell_type": "code",
   "execution_count": null,
   "metadata": {},
   "outputs": [],
   "source": [
    "#Compute the hydration free energy from this new estimate:\n",
    "\n",
    "\n",
    "\n"
   ]
  },
  {
   "cell_type": "code",
   "execution_count": null,
   "metadata": {},
   "outputs": [],
   "source": [
    "#Plot the PMF of the MBAR analysis of the original analysis in comparison to the \n",
    "#MBAR analysis where the first 1000 frames were discarded. \n",
    "\n",
    "\n"
   ]
  },
  {
   "cell_type": "markdown",
   "metadata": {},
   "source": [
    "### A little quiz for the end\n",
    "Congratulations you have finished this tutorial! Time for a little feedback https://goo.gl/forms/PRQWV8qrL9vdTc8P2 followed by a coffee or tea break :-)"
   ]
  }
 ],
 "metadata": {
  "kernelspec": {
   "display_name": "Python 3",
   "language": "python",
   "name": "python3"
  },
  "language_info": {
   "codemirror_mode": {
    "name": "ipython",
    "version": 3
   },
   "file_extension": ".py",
   "mimetype": "text/x-python",
   "name": "python",
   "nbconvert_exporter": "python",
   "pygments_lexer": "ipython3",
   "version": "3.5.2"
  }
 },
 "nbformat": 4,
 "nbformat_minor": 2
}
